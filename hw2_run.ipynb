{
 "cells": [
  {
   "cell_type": "code",
   "execution_count": 3,
   "metadata": {},
   "outputs": [
    {
     "name": "stderr",
     "output_type": "stream",
     "text": [
      "[nltk_data] Downloading package stopwords to\n",
      "[nltk_data]     C:\\Users\\andre\\AppData\\Roaming\\nltk_data...\n",
      "[nltk_data]   Package stopwords is already up-to-date!\n"
     ]
    }
   ],
   "source": [
    "from utils import *\n",
    "import pprint\n",
    "from collections import Counter,defaultdict\n",
    "from itertools import chain\n",
    "import random\n",
    "import math\n",
    "import matplotlib.pyplot as plt"
   ]
  },
  {
   "cell_type": "code",
   "execution_count": 5,
   "metadata": {},
   "outputs": [],
   "source": [
    "def naive_bayes(pos_train,neg_train,vocab,pos_test,neg_test,alpha=10**-5):\n",
    "\t'''\n",
    "\tFunction to perform naive baiyes using standard equation.\n",
    "\tpos_train - positive instances in training set,\n",
    "\tneg_train - negative instances in training set,\n",
    "\tvocab - vocab\n",
    "\tpos_test - positive instances in test set,\n",
    "\tneg_test - negative incstances in test set,\n",
    "\talpha - alpha value for laplace smoothing,\n",
    "\treturns: tp,fp,fn,tn\n",
    "\t'''\n",
    "\n",
    "\t#get counts of each word in classes\n",
    "\tpos_counts = Counter(chain(*pos_train))\n",
    "\tneg_counts = Counter(chain(*neg_train))\n",
    "\ttotal_pos = sum(pos_counts[key] for key in pos_counts.keys())\n",
    "\ttotal_neg = sum(neg_counts[key] for key in neg_counts.keys())\n",
    "\n",
    "\tnum_docs = len(pos_train) + len(neg_train)\n",
    "\tprop_pos = len(pos_train)/num_docs\n",
    "\tprop_neg = len(neg_train)/num_docs\n",
    "\t\n",
    "\t#calculate true pos, false pos, false neg, true neg for standard\n",
    "\ttp,fp,fn,tn= [0]*4\n",
    "\n",
    "\tfor doc in pos_test:\n",
    "\t\tis_pos = prop_pos\n",
    "\t\tis_neg = prop_neg\n",
    "\n",
    "\t\tfor word in doc:\n",
    "\t\t\tprob_word_pos = (pos_counts[word] + alpha)/(total_pos + alpha*len(vocab))\n",
    "\t\t\tprob_word_neg = (neg_counts[word] + alpha)/(total_neg + alpha*len(vocab))\n",
    "\t\t\tis_pos *= prob_word_pos\n",
    "\t\t\tis_neg *= prob_word_neg\n",
    "\n",
    "\t\tif is_pos > is_neg:\n",
    "\t\t\ttp += 1\n",
    "\t\telif is_neg > is_pos:\n",
    "\t\t\tfn += 1\n",
    "\t\t#if probabilities are equal, flip a coin\n",
    "\t\telse:\n",
    "\t\t\tif random.random() > 0.5:\n",
    "\t\t\t\ttp += 1\n",
    "\t\t\telse:\n",
    "\t\t\t\tfn += 1\n",
    "\n",
    "\tfor doc in neg_test:\n",
    "\t\tis_pos = prop_pos\n",
    "\t\tis_neg = prop_neg\n",
    "\n",
    "\t\tfor word in doc:\n",
    "\t\t\tprob_word_pos = (pos_counts[word] + alpha)/(total_pos + alpha*len(vocab))\n",
    "\t\t\tprob_word_neg = (neg_counts[word] + alpha)/(total_neg + alpha*len(vocab))\n",
    "\t\t\tis_pos *= prob_word_pos\n",
    "\t\t\tis_neg *= prob_word_neg\n",
    "\n",
    "\t\tif is_pos > is_neg:\n",
    "\t\t\tfp += 1\n",
    "\t\telif is_neg > is_pos:\n",
    "\t\t\ttn += 1\n",
    "\t\t#if probabilities are equal, flip a coin\n",
    "\t\telse:\n",
    "\t\t\tif random.random() > 0.5:\n",
    "\t\t\t\ttn += 1\n",
    "\t\t\telse:\n",
    "\t\t\t\tfp += 1\n",
    "\n",
    "\treturn tp,fp,fn,tn"
   ]
  },
  {
   "cell_type": "code",
   "execution_count": 6,
   "metadata": {},
   "outputs": [],
   "source": [
    "def naive_bayes_log(pos_train,neg_train,vocab,pos_test,neg_test,alpha=10**-5):\n",
    "\t'''\n",
    "\tFunction to perform naive baiyes using log probabilities.\n",
    "\tpos_train - positive instances in training set,\n",
    "\tneg_train - negative instances in training set,\n",
    "\tvocab - vocab\n",
    "\tpos_test - positive instances in test set,\n",
    "\tneg_test - negative incstances in test set,\n",
    "\talpha - alpha value for laplace smoothing,\n",
    "\treturns: tp_log,fp_log,fn_log,tn_log\n",
    "\t'''\n",
    "\n",
    "\t#get counts of each word in classes\n",
    "\tpos_counts = Counter(chain(*pos_train))\n",
    "\tneg_counts = Counter(chain(*neg_train))\n",
    "\ttotal_pos = sum(pos_counts[key] for key in pos_counts.keys())\n",
    "\ttotal_neg = sum(neg_counts[key] for key in neg_counts.keys())\n",
    "\n",
    "\tnum_docs = len(pos_train) + len(neg_train)\n",
    "\tprop_pos = len(pos_train)/num_docs\n",
    "\tprop_neg = len(neg_train)/num_docs\n",
    "\t\n",
    "\t#calculate true pos, false pos, false neg, true neg\n",
    "\ttp_log,fp_log,fn_log,tn_log = [0]*4\n",
    "\n",
    "\tfor doc in pos_test:\n",
    "\t\tpos_log = math.log(prop_pos)\n",
    "\t\tneg_log = math.log(prop_neg)\n",
    "\n",
    "\t\tfor word in doc:\n",
    "\t\t\tpos_log += math.log((pos_counts[word] + alpha)/(total_pos + alpha*len(vocab)))\n",
    "\t\t\tneg_log += math.log((neg_counts[word] + alpha)/(total_neg + alpha*len(vocab)))\n",
    "\n",
    "\t\tif pos_log > neg_log:\n",
    "\t\t\ttp_log += 1\n",
    "\t\telif neg_log > pos_log:\n",
    "\t\t\tfn_log += 1\n",
    "\t\t#if probabilities are equal, flip a coin\n",
    "\t\telse:\n",
    "\t\t\tif random.random() > 0.5:\n",
    "\t\t\t\ttp_log += 1\n",
    "\t\t\telse:\n",
    "\t\t\t\tfn_log += 1\n",
    "\n",
    "\tfor doc in neg_test:\n",
    "\t\tpos_log = math.log(prop_pos)\n",
    "\t\tneg_log = math.log(prop_neg)\n",
    "\n",
    "\t\tfor word in doc:\n",
    "\t\t\tprob_word_pos = (pos_counts[word] + alpha)/(total_pos + alpha*len(vocab))\n",
    "\t\t\tprob_word_neg = (neg_counts[word] + alpha)/(total_neg + alpha*len(vocab))\n",
    "\t\t\tpos_log += math.log(prob_word_pos)\n",
    "\t\t\tneg_log += math.log(prob_word_neg)\n",
    "\n",
    "\t\tif pos_log > neg_log:\n",
    "\t\t\tfp_log += 1\n",
    "\t\telif neg_log > pos_log:\n",
    "\t\t\ttn_log += 1\n",
    "\t\t#if probabilities are equal, flip a coin\n",
    "\t\telse:\n",
    "\t\t\tif random.random() > 0.5:\n",
    "\t\t\t\ttn_log += 1\n",
    "\t\t\telse:\n",
    "\t\t\t\tfp_log += 1\n",
    "\n",
    "\treturn tp_log,fp_log,fn_log,tn_log"
   ]
  },
  {
   "attachments": {},
   "cell_type": "markdown",
   "metadata": {},
   "source": [
    "**Q.1 (18 Points)** First, perform the classification of the\n",
    "instances in the test set by comparing posterior probabilities, Pr(yi\n",
    "| Doc), according to Eq. (1), for\n",
    "both classes. Then, report (i) the accuracy of your model; (ii) its precision; (iii) its recall; and (iv)\n",
    "the confusion matrix resulting from this experiment. \n",
    "\n",
    ">**NOTE: For this question I implemented laplace smoothing with alpha = 1e-5 as to avoid dealing with 0 probabilities**"
   ]
  },
  {
   "cell_type": "code",
   "execution_count": 9,
   "metadata": {},
   "outputs": [
    {
     "name": "stdout",
     "output_type": "stream",
     "text": [
      "Number of positive training instances: 2426\n",
      "Number of negative training instances: 2407\n",
      "Number of positive test instances: 2498\n",
      "Number of negative test instances: 2565\n",
      "Vocabulary (training set): 42195\n",
      "\n",
      "Results for Standard Equation\n",
      "Precision: 0.5955480890382192\n",
      "Recall: 0.567654123298639\n",
      "Accuracy: 0.5964842978471262\n",
      "Confusion Matrix: \n",
      "TP: 1418 FN: 1080\n",
      "FP: 963 TN: 1602\n"
     ]
    }
   ],
   "source": [
    "(pos_train, neg_train, vocab) = load_training_set(0.2, 0.2)\n",
    "(pos_test,  neg_test)         = load_test_set(0.2, 0.2)\n",
    "tp,fp,fn,tn = naive_bayes(pos_train,neg_train,vocab,pos_test,neg_test)\n",
    "\n",
    "print(\"Number of positive training instances:\", len(pos_train))\n",
    "print(\"Number of negative training instances:\", len(neg_train))\n",
    "print(\"Number of positive test instances:\", len(pos_test))\n",
    "print(\"Number of negative test instances:\", len(neg_test))\n",
    "with open('vocab.txt','w',encoding='utf-8') as f:\n",
    "    for word in vocab:\n",
    "        f.write(\"%s\\n\" % word)\n",
    "print(\"Vocabulary (training set):\", len(vocab))\n",
    "print()\n",
    "print(\"Results for Standard Equation\")\n",
    "print(f\"Precision: {(tp/(tp+fp))}\")\n",
    "print(f\"Recall: {(tp/(tp+fn))}\")\n",
    "print(f\"Accuracy: {((tp+tn)/(tp+fp+tn+fn))}\")\n",
    "print(\"Confusion Matrix: \")\n",
    "print(f\"TP: {tp} FN: {fn}\")\n",
    "print(f\"FP: {fp} TN: {tn}\")"
   ]
  },
  {
   "attachments": {},
   "cell_type": "markdown",
   "metadata": {},
   "source": [
    "Now repeat the same experiment above but classify the instances in the test set by comparing log-probabilities, log(Pr(yi| Doc)), according to Eq. (5), for both classes. Report the same quantities as before. "
   ]
  },
  {
   "cell_type": "code",
   "execution_count": 10,
   "metadata": {},
   "outputs": [
    {
     "name": "stdout",
     "output_type": "stream",
     "text": [
      "Results for Log Transform Equation\n",
      "Precision: 0.7220367278797997\n",
      "Recall: 0.6925540432345877\n",
      "Accuracy: 0.7167687142010666\n",
      "Confusion Matrix: \n",
      "TP: 1730 FN: 768\n",
      "FP: 666 TN: 1899\n"
     ]
    }
   ],
   "source": [
    "tp_log,fp_log,fn_log,tn_log = naive_bayes_log(pos_train,neg_train,vocab,pos_test,neg_test)\n",
    "print(\"Results for Log Transform Equation\")\n",
    "print(f\"Precision: {(tp_log/(tp_log+fp_log))}\")\n",
    "print(f\"Recall: {(tp_log/(tp_log+fn_log))}\")\n",
    "print(f\"Accuracy: {((tp_log+tn_log)/(tp_log+fp_log+tn_log+fn_log))}\")\n",
    "print(\"Confusion Matrix: \")\n",
    "print(f\"TP: {tp_log} FN: {fn_log}\")\n",
    "print(f\"FP: {fp_log} TN: {tn_log}\")"
   ]
  },
  {
   "attachments": {},
   "cell_type": "markdown",
   "metadata": {},
   "source": [
    "Discuss whether classifying instances by computing log-probabilities, instead of probabilities, affects the model’s performance. Assuming that this transformation does have an impact on performance, does it affect more strongly the model’s accuracy, precision, or recall? Why do you think that is the case?\n",
    "\n",
    ">Classifying instances by computing log-probabilities significantly improves the model's performance when compared to the standard probabilities. It has the strongest effect on recall (22% increase), however the effect is almost equally strong for precision (21.14%) and accuracy (20.3%). When comparing the confusion matrices for both, it is shown that computing log-probabilities increases the number of true positives and true negatives by ~20%. The reason for the improved performance is likely due to the fact that computing log-probabilities changes the comparisson to a summation rather than a product. Since I used a low alpha (1e-5), it is likely that documents including words that were not encountered in the training set had extremely low scores resulting in false positives and false negatives.\n",
    "\n",
    "**Q.2 (18 Points)** In this experiment, you should use 20% of the training set and 20% of the test set; i.e., call the\n",
    "dataset-loading functions by passing 0.2 as their parameters. You should first report the confusion\n",
    "matrix, precision, recall, and accuracy of your classifier (when evaluated on the test set) when using\n",
    "α = 1."
   ]
  },
  {
   "cell_type": "code",
   "execution_count": 31,
   "metadata": {},
   "outputs": [
    {
     "name": "stdout",
     "output_type": "stream",
     "text": [
      "Number of positive training instances: 2525\n",
      "Number of negative training instances: 2504\n",
      "Number of positive test instances: 2520\n",
      "Number of negative test instances: 2441\n",
      "Vocabulary (training set): 42957\n",
      "\n",
      "Results for Log Transform Equation Using Alpha = 1\n",
      "Precision: 0.8605683836589698\n",
      "Recall: 0.7690476190476191\n",
      "Accuracy: 0.8193912517637573\n",
      "Confusion Matrix: \n",
      "TP: 1938 FN: 582\n",
      "FP: 314 TN: 2127\n"
     ]
    }
   ],
   "source": [
    "(pos_train, neg_train, vocab) = load_training_set(0.2, 0.2)\n",
    "(pos_test,  neg_test)         = load_test_set(0.2, 0.2)\n",
    "tp_log,fp_log,fn_log,tn_log = naive_bayes_log(pos_train,neg_train,vocab,pos_test,neg_test,alpha=1)\n",
    "\n",
    "print(\"Number of positive training instances:\", len(pos_train))\n",
    "print(\"Number of negative training instances:\", len(neg_train))\n",
    "print(\"Number of positive test instances:\", len(pos_test))\n",
    "print(\"Number of negative test instances:\", len(neg_test))\n",
    "\n",
    "with open('vocab.txt','w',encoding='utf-8') as f:\n",
    "    for word in vocab:\n",
    "        f.write(\"%s\\n\" % word)\n",
    "print(\"Vocabulary (training set):\", len(vocab))\n",
    "print()\n",
    "\n",
    "print(\"Results for Log Transform Equation Using Alpha = 1\")\n",
    "print(f\"Precision: {(tp_log/(tp_log+fp_log))}\")\n",
    "print(f\"Recall: {(tp_log/(tp_log+fn_log))}\")\n",
    "print(f\"Accuracy: {((tp_log+tn_log)/(tp_log+fp_log+tn_log+fn_log))}\")\n",
    "print(\"Confusion Matrix: \")\n",
    "print(f\"TP: {tp_log} FN: {fn_log}\")\n",
    "print(f\"FP: {fp_log} TN: {tn_log}\")"
   ]
  },
  {
   "attachments": {},
   "cell_type": "markdown",
   "metadata": {},
   "source": [
    "Now, vary the value of α from 0.0001 to 1000, by multiplying α with 10 each time. That is, try\n",
    "values of α equal to 0.0001, 0.001, 0.01, 0.1, 1.0, 100, and 1000. For each value, record the accuracy of\n",
    "the resulting model when evaluated on the test set."
   ]
  },
  {
   "cell_type": "code",
   "execution_count": 38,
   "metadata": {},
   "outputs": [
    {
     "name": "stdout",
     "output_type": "stream",
     "text": [
      "Accuracy for Alpha = 0.0001: 0.7266680104817577\n",
      "Accuracy for Alpha = 0.001: 0.7478330981656924\n",
      "Accuracy for Alpha = 0.01: 0.7718201975408184\n",
      "Accuracy for Alpha = 0.1: 0.7943962910703487\n",
      "Accuracy for Alpha = 1.0: 0.8193912517637573\n",
      "Accuracy for Alpha = 10.0: 0.8383390445474702\n",
      "Accuracy for Alpha = 100.0: 0.8322918766377746\n",
      "Accuracy for Alpha = 1000.0: 0.7851239669421488\n"
     ]
    }
   ],
   "source": [
    "i = 0.0001\n",
    "alpha_vals = []\n",
    "accuracy = []\n",
    "while i <= 1000:\n",
    "    tp_log,fp_log,fn_log,tn_log = naive_bayes_log(pos_train,neg_train,vocab,pos_test,neg_test,alpha=i)\n",
    "    alpha_vals.append(i)\n",
    "    acc_i = (tp_log+tn_log)/(tp_log+fp_log+tn_log+fn_log)\n",
    "    accuracy.append(acc_i)\n",
    "    print(f\"Accuracy for Alpha = {i}: {acc_i}\")\n",
    "    i *= 10\n"
   ]
  },
  {
   "attachments": {},
   "cell_type": "markdown",
   "metadata": {},
   "source": [
    "Then, create a plot of the model’s accuracy on the\n",
    "test set (shown on the y-axis) as a function of the value of α (shown on the x-axis). The x-axis should\n",
    "represent α values and use a log scale."
   ]
  },
  {
   "cell_type": "code",
   "execution_count": 34,
   "metadata": {},
   "outputs": [
    {
     "data": {
      "image/png": "[encoded data removed]",
      "text/plain": [
       "<Figure size 432x288 with 1 Axes>"
      ]
     },
     "metadata": {
      "needs_background": "light"
     },
     "output_type": "display_data"
    }
   ],
   "source": [
    "plt.xscale(\"log\")\n",
    "plt.plot(alpha_vals,accuracy)\n",
    "plt.xlabel(\"Alpha\")\n",
    "plt.ylabel(\"Accuracy\")\n",
    "plt.title(\"Accuracy vs Alpha\")\n",
    "plt.show()"
   ]
  },
  {
   "attachments": {},
   "cell_type": "markdown",
   "metadata": {},
   "source": [
    "Analyze this graph and discuss why do you think the accuracy suffers when α is too high or too low.\n",
    "\n",
    ">This graph shows that accuracy increases as alpha increases until reaching its maximum accuracy at alpha = 10. For alpha values > 10, accuracy decreases as alpha increases. Alpha values which are too high or too low result in lower accuracy due to the fact that tweaking the value of alpha is equivalent to adding fake occurences of words in the training set. If alpha is too low, then the model will be too biased towards words that occur in the training data causing it to overfit. If alpha is too high, the model may overcompensate by increasing it's percieved frequency of all words; if a word occurs 10 times in the positive training set but 0 times in the negative, adding 10,000 fake instances that word could discount the fact that the word only occured in the positive training set.\n",
    "\n",
    "**Q.3 (18 Points)** Now you will investigate the impact of the training set size on the performance of the model. The classification of new instances, here, should be done by comparing the posterior log-probabilities, log(Pr(yi | Doc)) according to Eq. (5), for both classes. You should use the value of α that resulted in the highest accuracy according to your experiments in the previous question. In this question, you should use 100% of the training set and 100% of the test set; i.e., call the dataset-loading functions by passing 1.0 as their parameters. Then, report (i) the accuracy of your model; (ii) its precision; (iii) its recall; and (iv) the confusion matrix resulting from this experiment"
   ]
  },
  {
   "cell_type": "code",
   "execution_count": 39,
   "metadata": {},
   "outputs": [
    {
     "name": "stdout",
     "output_type": "stream",
     "text": [
      "Number of positive training instances: 12500\n",
      "Number of negative training instances: 12500\n",
      "Number of positive test instances: 12500\n",
      "Number of negative test instances: 12500\n",
      "Vocabulary (training set): 92603\n",
      "\n",
      "Results for Log Transform Equation Using Alpha = 10\n",
      "Precision: 0.8686214442013129\n",
      "Recall: 0.79392\n",
      "Accuracy: 0.83692\n",
      "Confusion Matrix: \n",
      "TP: 9924 FN: 2576\n",
      "FP: 1501 TN: 10999\n"
     ]
    }
   ],
   "source": [
    "(pos_train, neg_train, vocab) = load_training_set(1, 1)\n",
    "(pos_test,  neg_test)         = load_test_set(1, 1)\n",
    "tp_log,fp_log,fn_log,tn_log = naive_bayes_log(pos_train,neg_train,vocab,pos_test,neg_test,alpha=10)\n",
    "\n",
    "print(\"Number of positive training instances:\", len(pos_train))\n",
    "print(\"Number of negative training instances:\", len(neg_train))\n",
    "print(\"Number of positive test instances:\", len(pos_test))\n",
    "print(\"Number of negative test instances:\", len(neg_test))\n",
    "\n",
    "with open('vocab.txt','w',encoding='utf-8') as f:\n",
    "    for word in vocab:\n",
    "        f.write(\"%s\\n\" % word)\n",
    "print(\"Vocabulary (training set):\", len(vocab))\n",
    "print()\n",
    "print(\"Results for Log Transform Equation Using Alpha = 10\")\n",
    "print(f\"Precision: {(tp_log/(tp_log+fp_log))}\")\n",
    "print(f\"Recall: {(tp_log/(tp_log+fn_log))}\")\n",
    "print(f\"Accuracy: {((tp_log+tn_log)/(tp_log+fp_log+tn_log+fn_log))}\")\n",
    "print(\"Confusion Matrix: \")\n",
    "print(f\"TP: {tp_log} FN: {fn_log}\")\n",
    "print(f\"FP: {fp_log} TN: {tn_log}\")"
   ]
  },
  {
   "attachments": {},
   "cell_type": "markdown",
   "metadata": {},
   "source": [
    "**Q.4 (18 Points)** Now repeat the experiment above but use only 50% of the training instances; that\n",
    "is, load the training set by calling load training set(0.5, 0.5). The entire test set should be\n",
    "used. Report the same quantities as in the previous question. Discuss whether using such a smaller\n",
    "training set had any impact on the performance of your learned model. Analyze the confusion matrices\n",
    "(of this question and the previous one) and discuss whether one particular class was more affected by\n",
    "changing the size of the training set."
   ]
  },
  {
   "cell_type": "code",
   "execution_count": 40,
   "metadata": {},
   "outputs": [
    {
     "name": "stdout",
     "output_type": "stream",
     "text": [
      "Number of positive training instances: 6262\n",
      "Number of negative training instances: 6344\n",
      "Number of positive test instances: 12500\n",
      "Number of negative test instances: 12500\n",
      "Vocabulary (training set): 67067\n",
      "\n",
      "Results for Log Transform Equation Using Alpha = 10\n",
      "Precision: 0.8689846760462407\n",
      "Recall: 0.77576\n",
      "Accuracy: 0.8294\n",
      "Confusion Matrix: \n",
      "TP: 9697 FN: 2803\n",
      "FP: 1462 TN: 11038\n"
     ]
    }
   ],
   "source": [
    "(pos_train, neg_train, vocab) = load_training_set(0.5, 0.5)\n",
    "tp_log,fp_log,fn_log,tn_log = naive_bayes_log(pos_train,neg_train,vocab,pos_test,neg_test,alpha=10)\n",
    "\n",
    "print(\"Number of positive training instances:\", len(pos_train))\n",
    "print(\"Number of negative training instances:\", len(neg_train))\n",
    "print(\"Number of positive test instances:\", len(pos_test))\n",
    "print(\"Number of negative test instances:\", len(neg_test))\n",
    "\n",
    "with open('vocab.txt','w',encoding='utf-8') as f:\n",
    "    for word in vocab:\n",
    "        f.write(\"%s\\n\" % word)\n",
    "print(\"Vocabulary (training set):\", len(vocab))\n",
    "print()\n",
    "print(\"Results for Log Transform Equation Using Alpha = 10\")\n",
    "print(f\"Precision: {(tp_log/(tp_log+fp_log))}\")\n",
    "print(f\"Recall: {(tp_log/(tp_log+fn_log))}\")\n",
    "print(f\"Accuracy: {((tp_log+tn_log)/(tp_log+fp_log+tn_log+fn_log))}\")\n",
    "print(\"Confusion Matrix: \")\n",
    "print(f\"TP: {tp_log} FN: {fn_log}\")\n",
    "print(f\"FP: {fp_log} TN: {tn_log}\")"
   ]
  },
  {
   "attachments": {},
   "cell_type": "markdown",
   "metadata": {},
   "source": [
    ">Using only 50% of the training instances resulted in worse recall and accuracy while precision was roughly the same. By comparing the confusion matrices, we can see that using 50% of the training data reulted in a higher number of false negatives and true negatives, while yielding a lower amount of true positives and false positives. In this case, using 50% of the training set seemed to incur a bias towards negative reviews. This is likely due to the fact that using 50% of the training instances resulted in 6262 positive training instances and 6344 negative training instances.\n",
    "\n",
    "**Q.5 (10 Points)** In this application (i.e., accurately classifying movie reviews), would you say that it\n",
    "is more important to have high accuracy, high precision, or high recall? Justify your opinion\n",
    "\n",
    ">Since we are analyzing many movie reviews, we are likely trying to guage public opinion of a given movie. In this case, having a high recall is most important as we care about accurately identifying wether a movie has more positive or more negative reviews. If the model has a high recall, then we can assume that the number of documents classified as positive is close to the actual number of positive reviews (given our accuracy and precision is not horrible). With this information we can determine wether or not the majority of reviews favor the movie. That being said, a model could achieve a recall of 1 just by classifying every review as positive. Because of this, it is still important for a model to have high accuracy and precision.\n",
    "\n",
    "**Q.6 (18 Points)** You should use the value of α that resulted in the highest accuracy according to your experiments in the previous questions. You will now conduct an experiment where you use only 10% of the available positive training instances and that uses 50% of the available negative training instances. That is, use load training set(0.1, 0.5). The entire test set should be used. Show the confusion matrix of your trained model, as well as\n",
    "its accuracy, precision, and recall. "
   ]
  },
  {
   "cell_type": "code",
   "execution_count": 41,
   "metadata": {},
   "outputs": [
    {
     "name": "stdout",
     "output_type": "stream",
     "text": [
      "Number of positive training instances: 1287\n",
      "Number of negative training instances: 6198\n",
      "Number of positive test instances: 12500\n",
      "Number of negative test instances: 12500\n",
      "Vocabulary (training set): 50530\n",
      "\n",
      "Results for Unbalanced Training Using Alpha = 10\n",
      "Precision: 0.8571428571428571\n",
      "Recall: 0.00048\n",
      "Accuracy: 0.5002\n",
      "Confusion Matrix: \n",
      "TP: 6 FN: 12494\n",
      "FP: 1 TN: 12499\n"
     ]
    }
   ],
   "source": [
    "(pos_train, neg_train, vocab) = load_training_set(0.1, 0.5)\n",
    "tp_log,fp_log,fn_log,tn_log = naive_bayes_log(pos_train,neg_train,vocab,pos_test,neg_test,alpha=10)\n",
    "\n",
    "print(\"Number of positive training instances:\", len(pos_train))\n",
    "print(\"Number of negative training instances:\", len(neg_train))\n",
    "print(\"Number of positive test instances:\", len(pos_test))\n",
    "print(\"Number of negative test instances:\", len(neg_test))\n",
    "\n",
    "with open('vocab.txt','w',encoding='utf-8') as f:\n",
    "    for word in vocab:\n",
    "        f.write(\"%s\\n\" % word)\n",
    "print(\"Vocabulary (training set):\", len(vocab))\n",
    "print()\n",
    "print(\"Results for Unbalanced Training Using Alpha = 10\")\n",
    "print(f\"Precision: {(tp_log/(tp_log+fp_log))}\")\n",
    "print(f\"Recall: {(tp_log/(tp_log+fn_log))}\")\n",
    "print(f\"Accuracy: {((tp_log+tn_log)/(tp_log+fp_log+tn_log+fn_log))}\")\n",
    "print(\"Confusion Matrix: \")\n",
    "print(f\"TP: {tp_log} FN: {fn_log}\")\n",
    "print(f\"FP: {fp_log} TN: {tn_log}\")"
   ]
  },
  {
   "attachments": {},
   "cell_type": "markdown",
   "metadata": {},
   "source": [
    "Compare this model’s performance to the performance (according to these same metrics) of the model trained in question Q.4—that is, a model that was trained under a balanced dataset. Discuss how training under an unbalanced dataset affected each of these performance metrics.\n",
    "\n",
    ">The performance of the unbalanced training set is significantly worse than the balanced training set. The unbalanced training set yields a pitifully low recall of almost 0 and extremely low accuracy of 0.5, compared to 0.78 and 0.83 respectively with the balanced training set. Despite this, the unabalanced training set yielded a similar precision to the balanced training set. Looking at the confusion matrix corresponding to the unbalanced training data, we can see that only 7 of the 25,000 documents were classified as positive. This is due to the fact that the negative training set was 5 times larger than the positive training set, causing the model to classify almost every document as negative due to the inflated word frequencies for the negative dataset. Since the model barely classified any instances as positive, we would expect a near 0 recall. An accuracy of 0.5 is also expected since half of the testing documents are in fact negative. Since the model almost exclusively labeled instances as negative, it is not surprising that an accuracy of 0.86 was recorded since the documents labeled as positive must have had to be significantly similar to the positive training and/or dissimilar to the negative training data."
   ]
  }
 ],
 "metadata": {
  "kernelspec": {
   "display_name": "Python 3",
   "language": "python",
   "name": "python3"
  },
  "language_info": {
   "codemirror_mode": {
    "name": "ipython",
    "version": 3
   },
   "file_extension": ".py",
   "mimetype": "text/x-python",
   "name": "python",
   "nbconvert_exporter": "python",
   "pygments_lexer": "ipython3",
   "version": "3.9.13"
  },
  "orig_nbformat": 4
 },
 "nbformat": 4,
 "nbformat_minor": 2
}
